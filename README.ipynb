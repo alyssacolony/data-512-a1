{
 "cells": [
  {
   "cell_type": "markdown",
   "metadata": {},
   "source": [
    "# English Wikipedia page views, 2008 - September 2017\n",
    "\n",
    "### Goal:   \n",
    "The Goal of this project is to create a visualization that shows how page views on the en.wikipedia.org have varied from mobile and desktop sources from 2008 through September 2017. The final visualization will look like the one below:\n",
    "\n",
    "\n",
    "![title](pageviewsOnEnglishWikipedia.png)\n",
    "\n",
    "Please note that there is some inconsistency in data across the time period. Prior to July 2015, all data included pageviews by users as well as scrapers (This data is access from the pagecount API referenced below). From July of 2015 onward, the data focuses on user generated views, and ignores spider traffic (This data is accessed from the pageviews API, referenced below).\n"
   ]
  },
  {
   "cell_type": "markdown",
   "metadata": {
    "collapsed": true
   },
   "source": [
    "### Data source: \n",
    "\n",
    "\n",
    "The data was sourced from the Wikimedia REST API using two separate endpoints. The pageviews endpoint and the legacy pagecounts endpoint. See below for details.\n",
    "\n",
    "Rules of REST API: as listed here: https://wikimedia.org/api/rest_v1/#/\n",
    "- Limit your clients to no more than 200 requests/s to this API. Each API endpoint's documentation may detail more specific usage limits.  \n",
    "- Set a unique User-Agent or Api-User-Agent header that allows us to contact you quickly. Email addresses or URLs of contact pages work well.  \n",
    "- By using this API, you agree to Wikimedia's Terms of Use and Privacy Policy. Unless otherwise specified in the endpoint documentation below, content accessed via this API is licensed under the CC-BY-SA 3.0 and GFDL licenses, and you irrevocably agree to release modifications or additions made through this API under these licenses. See https://www.mediawiki.org/wiki/REST_API for background and details.\n",
    "\n",
    "**Licenses:** Data accessible via both of the below endpoints is available under the CC0 1.0 license, meaning it is part of the public domain. See this page for more details on how you can use this data: https://creativecommons.org/publicdomain/zero/1.0/  \n",
    "\n",
    "**The Pageviews endpoint provides access to desktop, mobile web, and mobile app traffic data from July 2015 through September 2017.**\n",
    "*The data on this API separates user generated views from spider/crawler generated views if desired. Please select 'user' when accessing data.*\n",
    "https://wikimedia.org/api/rest_v1/#!/Pageviews_data/get_metrics_pageviews_aggregate_project_access_agent_granularity_start_end \n",
    "The rate limit is: 100 req/s\n",
    "\n",
    "\n",
    "Documentation for the Pageviews API is here:  \n",
    "https://wikitech.wikimedia.org/wiki/Analytics/AQS/Pageviews  \n",
    "\n",
    "\n",
    "**The legacy Pagecounts endpoint provides access to desktop and mobile traffic data from January 2008 through July 2016:**\n",
    "*The data on this API does not separate user generated views from spider/crawler generated views.*\n",
    "\n",
    "https://wikimedia.org/api/rest_v1/#!/Legacy_data/get_metrics_legacy_pagecounts_aggregate_project_access_site_granularity_start_end  \n",
    "Rate limit: 100 req/s  \n",
    "\n",
    "Documentation for the pagecounts API is here:  \n",
    "https://wikitech.wikimedia.org/wiki/Analytics/AQS/Legacy_Pagecounts\n",
    "\n",
    "\n",
    "**The terms of use for wikimedia can be found here:**\n",
    "https://wikimediafoundation.org/wiki/Terms_of_Use/en\n",
    "\n"
   ]
  },
  {
   "cell_type": "markdown",
   "metadata": {},
   "source": [
    "## Final Data File\n",
    "\n",
    "The data in these files were extracted by Alyssa Goodrich on October 17, 2017\n",
    "\n",
    "The Final data file contains the following fields: \n",
    "\n",
    "\n",
    "|Field                  | Value        | Includes Spider/Crawler| Dates Available |\n",
    "|-----------------------|--------------|------------------------|-----------------|\n",
    "|Date                   | Mon-YYYY     |  NA                    |                 |\n",
    "|Month                  | MM           |  NA                    |                 | \n",
    "|Year                   | YYYY         |  NA                    |                 |\n",
    "|pagecount_all_views    |num_views     |  Yes                   | Jan '08-Jul '16 |\n",
    "|pagecount_desktop_views|num_views     |  Yes                   | Jan '08-Jul '16 |\n",
    "|pagecount_mobile_views |num_views     |  Yes                   | Jan '08-Jul '16 |\n",
    "|pageview_all_views     |num_views     |  No                    | Jul '15-Sep '17 |\n",
    "|pageview_desktop_views |num_views     |  No                    | Jul '15-Sep '17 |\n",
    "|pageview_mobile_views  |num_views     |  No                    | Jul '15-Sep '17 |\n",
    "\n",
    "\n",
    "Field Descriptions: \n",
    "- Date: Year and Month in which page views were counted\n",
    "- Month: Month in which page views were counted \n",
    "- Year: Year of period in which page views were counted\n",
    "- pagecount_all_views: Number of website views during period, including all access points as well as spiders/crawlers\n",
    "- pagecount_desktop_views: Number of website views during period, accessed from desktop including spiders/crawlers\n",
    "- pagecount_mobile_views: Number of website views during period, accessed from mobile including spiders/crawlers\n",
    "- pageview_all_views: Number of website views during period, accessed from all access points excluding spiders/crawlers     \n",
    "- pageview_desktop_views: Number of website views during period, accessed from desktop, excluding spiders/crawlers     \n",
    "- pageview_mobile_views: Number of website views during period, accessed from mobile, excluding spiders/crawlers   "
   ]
  },
  {
   "cell_type": "markdown",
   "metadata": {},
   "source": [
    "## Visualization\n",
    "\n",
    "![title](pageviewsOnEnglishWikipedia.png)\n",
    "\n",
    "The categories in the visualization link to to the categories in the data as follows:\n",
    "- Total: pagecount_all_views\n",
    "- Main Site: pagecount_desktop_views\n",
    "- Mobile site: pagecount_mobile_views\n",
    "- Total (no spider): pageview_all_views\n",
    "- Main Site (no spider): pageview_desktop_views\n",
    "- Mobile site (no spider) pageview_mobile_views"
   ]
  },
  {
   "cell_type": "code",
   "execution_count": null,
   "metadata": {
    "collapsed": true
   },
   "outputs": [],
   "source": []
  }
 ],
 "metadata": {
  "anaconda-cloud": {},
  "kernelspec": {
   "display_name": "Python [Root]",
   "language": "python",
   "name": "Python [Root]"
  },
  "language_info": {
   "codemirror_mode": {
    "name": "ipython",
    "version": 3
   },
   "file_extension": ".py",
   "mimetype": "text/x-python",
   "name": "python",
   "nbconvert_exporter": "python",
   "pygments_lexer": "ipython3",
   "version": "3.5.2"
  }
 },
 "nbformat": 4,
 "nbformat_minor": 0
}
